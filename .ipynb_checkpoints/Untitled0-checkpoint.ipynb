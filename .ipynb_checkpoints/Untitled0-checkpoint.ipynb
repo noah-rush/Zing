{
 "metadata": {
  "name": "",
  "signature": "sha256:1dbfe7ada5cdb5048bb34f463ebee67170429d9fe2f0261ae2f4ed2d2200d492"
 },
 "nbformat": 3,
 "nbformat_minor": 0,
 "worksheets": []
}