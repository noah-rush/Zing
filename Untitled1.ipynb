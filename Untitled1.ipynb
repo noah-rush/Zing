{
 "metadata": {
  "name": "",
  "signature": "sha256:5de90ddc9ad2ab613f66909db4a2ece4c7201a2b4be0f801a9ef2039aec42562"
 },
 "nbformat": 3,
 "nbformat_minor": 0,
 "worksheets": [
  {
   "cells": [
    {
     "cell_type": "code",
     "collapsed": false,
     "input": [
      "import os\n",
      "import psycopg2\n",
      "import urlparse"
     ],
     "language": "python",
     "metadata": {},
     "outputs": [],
     "prompt_number": 10
    },
    {
     "cell_type": "code",
     "collapsed": false,
     "input": [
      "urlparse.uses_netloc.append(\"postgres\")\n",
      "url = urlparse.urlparse(os.environ[\"DATABASE_URL\"])\n",
      "\n",
      "conn = psycopg2.connect(\n",
      "        database=url.path[1:],\n",
      "\t    user=url.username,\n",
      "\t    password=url.password,\n",
      "\t    host=url.hostname,\n",
      "\t    port=url.port\n",
      "\t)"
     ],
     "language": "python",
     "metadata": {},
     "outputs": []
    },
    {
     "cell_type": "code",
     "collapsed": false,
     "input": [
      "c = conn.cursor()"
     ],
     "language": "python",
     "metadata": {},
     "outputs": []
    },
    {
     "cell_type": "code",
     "collapsed": false,
     "input": [
      "c.execute(\"CREATE TABLE dates (id int PRIMARY KEY, start date DATE, end date DATE )\")"
     ],
     "language": "python",
     "metadata": {},
     "outputs": []
    },
    {
     "cell_type": "code",
     "collapsed": false,
     "input": [
      "c.execute(\"INSERT INTO gigs VALUES(1, '6/24/14', '10/24/14' )\")"
     ],
     "language": "python",
     "metadata": {},
     "outputs": []
    },
    {
     "cell_type": "code",
     "collapsed": false,
     "input": [
      "c.execute(\"INSERT INTO dates VALUES(1, '6/24/14', '10/24/14' )\")"
     ],
     "language": "python",
     "metadata": {},
     "outputs": []
    },
    {
     "cell_type": "code",
     "collapsed": false,
     "input": [
      "c.execute(\"SELECT * FROM dates)"
     ],
     "language": "python",
     "metadata": {},
     "outputs": []
    },
    {
     "cell_type": "code",
     "collapsed": false,
     "input": [
      "c.fetchall()\n"
     ],
     "language": "python",
     "metadata": {},
     "outputs": []
    },
    {
     "cell_type": "code",
     "collapsed": false,
     "input": [
      "results = c.fetchall()"
     ],
     "language": "python",
     "metadata": {},
     "outputs": []
    },
    {
     "cell_type": "code",
     "collapsed": false,
     "input": [
      "print results"
     ],
     "language": "python",
     "metadata": {},
     "outputs": []
    },
    {
     "cell_type": "code",
     "collapsed": false,
     "input": [],
     "language": "python",
     "metadata": {},
     "outputs": []
    }
   ],
   "metadata": {}
  }
 ]
}