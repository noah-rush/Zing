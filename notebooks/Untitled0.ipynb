{
 "metadata": {
  "name": "",
  "signature": "sha256:68d72b63a142f33b83a392689762a30e59fcd4d74b90f2009d57b31f17929961"
 },
 "nbformat": 3,
 "nbformat_minor": 0,
 "worksheets": [
  {
   "cells": [
    {
     "cell_type": "code",
     "collapsed": false,
     "input": [
      "import os\n",
      "import psycopg2\n",
      "import urlparse"
     ],
     "language": "python",
     "metadata": {},
     "outputs": [],
     "prompt_number": 1
    },
    {
     "cell_type": "code",
     "collapsed": false,
     "input": [
      "urlparse.uses_netloc.append(\"postgres\")\n",
      "  url = urlparse.urlparse(os.environ[\"DATABASE_URL\"])\n",
      "\n",
      "  conn = psycopg2.connect(\n",
      "      database=url.path[1:],\n",
      "      user=url.username,\n",
      "      password=url.password,\n",
      "      host=url.hostname,\n",
      "      port=url.port\n",
      "  )"
     ],
     "language": "python",
     "metadata": {},
     "outputs": [
      {
       "ename": "IndentationError",
       "evalue": "unexpected indent (<ipython-input-2-44691a704116>, line 2)",
       "output_type": "pyerr",
       "traceback": [
        "\u001b[0;36m  File \u001b[0;32m\"<ipython-input-2-44691a704116>\"\u001b[0;36m, line \u001b[0;32m2\u001b[0m\n\u001b[0;31m    url = urlparse.urlparse(os.environ[\"DATABASE_URL\"])\u001b[0m\n\u001b[0m    ^\u001b[0m\n\u001b[0;31mIndentationError\u001b[0m\u001b[0;31m:\u001b[0m unexpected indent\n"
       ]
      }
     ],
     "prompt_number": 2
    },
    {
     "cell_type": "code",
     "collapsed": false,
     "input": [
      "urlparse.uses_netloc.append(\"postgres\")\n",
      "url = urlparse.urlparse(os.environ[\"DATABASE_URL\"])\n",
      "\n",
      "conn = psycopg2.connect(\n",
      "      database=url.path[1:],\n",
      "      user=url.username,\n",
      "      password=url.password,\n",
      "      host=url.hostname,\n",
      "      port=url.port\n",
      "  )"
     ],
     "language": "python",
     "metadata": {},
     "outputs": [],
     "prompt_number": 3
    },
    {
     "cell_type": "code",
     "collapsed": false,
     "input": [
      " c = conn.cursor()"
     ],
     "language": "python",
     "metadata": {},
     "outputs": [],
     "prompt_number": 4
    },
    {
     "cell_type": "code",
     "collapsed": false,
     "input": [
      " c.execute(\"SELECT name from venues\")"
     ],
     "language": "python",
     "metadata": {},
     "outputs": [],
     "prompt_number": 13
    },
    {
     "cell_type": "code",
     "collapsed": false,
     "input": [
      "c.fetchall()"
     ],
     "language": "python",
     "metadata": {},
     "outputs": [
      {
       "metadata": {},
       "output_type": "pyout",
       "prompt_number": 14,
       "text": [
        "[('The Happy Snail',), ('Lous',), ('Nevermind',), ('Happy Jones',)]"
       ]
      }
     ],
     "prompt_number": 14
    },
    {
     "cell_type": "code",
     "collapsed": false,
     "input": [],
     "language": "python",
     "metadata": {},
     "outputs": []
    }
   ],
   "metadata": {}
  }
 ]
}